{
 "cells": [
  {
   "cell_type": "code",
   "execution_count": 5,
   "metadata": {
    "collapsed": true
   },
   "outputs": [],
   "source": [
    "%matplotlib inline\n",
    "import numpy as np\n",
    "import pandas as pd\n",
    "import matplotlib.pyplot as plt\n",
    "import sklearn as skl"
   ]
  },
  {
   "cell_type": "code",
   "execution_count": 186,
   "metadata": {
    "collapsed": true,
    "scrolled": true
   },
   "outputs": [],
   "source": [
    "trainlib = pd.read_csv(\"training.csv\")\n",
    "testlib = pd.read_csv(\"testing.csv\")"
   ]
  },
  {
   "cell_type": "code",
   "execution_count": 206,
   "metadata": {
    "collapsed": true
   },
   "outputs": [],
   "source": [
    "# Combine libraries for data processing\n",
    "all_data = trainlib.append(testlib)\n",
    "\n",
    "# New variables taken from previous kaggle competition\n",
    "all_data['Product_Info_2_char'] = all_data.Product_Info_2.str[0]\n",
    "all_data['Product_Info_2_num'] = all_data.Product_Info_2.str[1]\n",
    "all_data['Product_Info_2'] = pd.factorize(all_data['Product_Info_2'])[0]\n",
    "all_data['Product_Info_2_char'] = pd.factorize(all_data['Product_Info_2_char'])[0]\n",
    "all_data['Product_Info_2_num'] = pd.factorize(all_data['Product_Info_2_num'])[0]\n",
    "all_data['BMI_Age'] = all_data['BMI'] * all_data['Ins_Age']\n",
    "med_keyword_columns = all_data.columns[all_data.columns.str.startswith('Medical_Keyword_')]\n",
    "all_data['Med_Keywords_Count'] = all_data[med_keyword_columns].sum(axis=1)\n",
    "all_data.apply(lambda x: sum(x.isnull()),1)\n",
    "all_data['countna'] = all_data.apply(lambda x: sum(x.isnull()),1)\n",
    "all_data.fillna(-1, inplace=True)\n",
    "all_data['Response'] = all_data['Response'].astype(int)\n",
    "\n",
    "train_ohd = all_data[all_data['Response']>0].copy()\n",
    "test_ohd = all_data[all_data['Response']<1].copy()"
   ]
  },
  {
   "cell_type": "code",
   "execution_count": 208,
   "metadata": {},
   "outputs": [],
   "source": [
    "# Separate out the response column\n",
    "target = train_ohd[\"Response\"]\n",
    "db = train_ohd.drop([\"Response\"], axis=1)\n",
    "db2 = test_ohd.drop([\"Response\"], axis=1)"
   ]
  },
  {
   "cell_type": "code",
   "execution_count": 194,
   "metadata": {},
   "outputs": [],
   "source": [
    "# PCA option\n",
    "from sklearn.decomposition import PCA\n",
    "pca = PCA(n_components=2, svd_solver='full')\n",
    "db = pca.fit_transform(train_ohd)\n",
    "db2 = pca.fit_transform(test_ohd)"
   ]
  },
  {
   "cell_type": "code",
   "execution_count": 198,
   "metadata": {
    "scrolled": false
   },
   "outputs": [
    {
     "name": "stdout",
     "output_type": "stream",
     "text": [
      "[7.36567285 6.08071657 7.22221344 ... 4.83641799 6.08147473 5.19269468]\n"
     ]
    }
   ],
   "source": [
    "# Linear Regression\n",
    "from sklearn import datasets, linear_model\n",
    "from sklearn.metrics import mean_squared_error, r2_score\n",
    "\n",
    "# Create linear regression object\n",
    "regr = linear_model.LinearRegression()\n",
    "\n",
    "# Train the model using the training sets\n",
    "regr.fit(db, target)\n",
    "\n",
    "# Make predictions using the testing set\n",
    "pred = regr.predict(db2)\n",
    "print(pred)"
   ]
  },
  {
   "cell_type": "code",
   "execution_count": 199,
   "metadata": {},
   "outputs": [],
   "source": [
    "def specify(x1,x2,x3,x4,x5,x6,x7, arr):\n",
    "    '''\n",
    "    Digitize train list\n",
    "    '''\n",
    "    res = []\n",
    "    for y in arr:\n",
    "        if y < x1:\n",
    "            res.append(1)\n",
    "        elif y < x2:\n",
    "            res.append(2)\n",
    "        elif y < x3:\n",
    "            res.append(3)\n",
    "        elif y < x4:\n",
    "            res.append(4)\n",
    "        elif y < x5:\n",
    "            res.append(5)\n",
    "        elif y < x6:\n",
    "            res.append(6)\n",
    "        elif y < x7:\n",
    "            res.append(7)\n",
    "        else: res.append(8)\n",
    "    return res "
   ]
  },
  {
   "cell_type": "code",
   "execution_count": 166,
   "metadata": {},
   "outputs": [],
   "source": [
    "# Default cutoffs\n",
    "preds = specify(1.5, 2.5, 3.5, 4.5, 5.5, 6.5, 7.5, pred)"
   ]
  },
  {
   "cell_type": "code",
   "execution_count": 200,
   "metadata": {
    "collapsed": true
   },
   "outputs": [],
   "source": [
    "# Custom cutoffs from previous kaggle submission\n",
    "preds = specify(1.5,2.9,3.1,4.5,5.5,6.1,7.1, pred)"
   ]
  },
  {
   "cell_type": "code",
   "execution_count": 209,
   "metadata": {},
   "outputs": [
    {
     "name": "stdout",
     "output_type": "stream",
     "text": [
      "         Id  Response\n",
      "0     20000         8\n",
      "1     20001         6\n",
      "2     20002         8\n",
      "3     20003         7\n",
      "4     20004         5\n",
      "5     20005         6\n",
      "6     20006         7\n",
      "7     20007         4\n",
      "8     20008         5\n",
      "9     20009         5\n",
      "10    20010         6\n",
      "11    20011         5\n",
      "12    20012         7\n",
      "13    20013         5\n",
      "14    20014         6\n",
      "15    20015         5\n",
      "16    20016         7\n",
      "17    20017         7\n",
      "18    20018         5\n",
      "19    20019         5\n",
      "20    20020         5\n",
      "21    20021         5\n",
      "22    20022         7\n",
      "23    20023         8\n",
      "24    20024         5\n",
      "25    20025         4\n",
      "26    20026         7\n",
      "27    20027         8\n",
      "28    20028         7\n",
      "29    20029         8\n",
      "...     ...       ...\n",
      "9970  29970         7\n",
      "9971  29971         7\n",
      "9972  29972         6\n",
      "9973  29973         8\n",
      "9974  29974         4\n",
      "9975  29975         5\n",
      "9976  29976         8\n",
      "9977  29977         6\n",
      "9978  29978         7\n",
      "9979  29979         8\n",
      "9980  29980         7\n",
      "9981  29981         7\n",
      "9982  29982         7\n",
      "9983  29983         7\n",
      "9984  29984         6\n",
      "9985  29985         6\n",
      "9986  29986         4\n",
      "9987  29987         7\n",
      "9988  29988         6\n",
      "9989  29989         5\n",
      "9990  29990         7\n",
      "9991  29991         5\n",
      "9992  29992         8\n",
      "9993  29993         8\n",
      "9994  29994         5\n",
      "9995  29995         7\n",
      "9996  29996         6\n",
      "9997  29997         5\n",
      "9998  29998         6\n",
      "9999  29999         5\n",
      "\n",
      "[10000 rows x 2 columns]\n"
     ]
    }
   ],
   "source": [
    "# Create submission csv\n",
    "res = pd.DataFrame()\n",
    "id_arr = [x for x in range(20000, len(preds)+20000)]\n",
    "res[\"Id\"] = id_arr\n",
    "res.set_index(\"Id\")\n",
    "res[\"Response\"] = preds\n",
    "res.to_csv(\"predictions.csv\", index=False)\n",
    "temp = pd.read_csv(\"predictions.csv\")\n",
    "print(temp)"
   ]
  }
 ],
 "metadata": {
  "kernelspec": {
   "display_name": "Python 3",
   "language": "python",
   "name": "python3"
  },
  "language_info": {
   "codemirror_mode": {
    "name": "ipython",
    "version": 3
   },
   "file_extension": ".py",
   "mimetype": "text/x-python",
   "name": "python",
   "nbconvert_exporter": "python",
   "pygments_lexer": "ipython3",
   "version": "3.6.3"
  }
 },
 "nbformat": 4,
 "nbformat_minor": 2
}
